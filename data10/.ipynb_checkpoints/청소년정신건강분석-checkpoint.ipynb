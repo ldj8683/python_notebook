{
 "cells": [
  {
   "cell_type": "code",
   "execution_count": 1,
   "metadata": {},
   "outputs": [],
   "source": [
    "import pandas as pd\n",
    "import numpy as np"
   ]
  },
  {
   "cell_type": "code",
   "execution_count": 2,
   "metadata": {},
   "outputs": [
    {
     "data": {
      "text/plain": [
       "DatetimeIndex(['2019-03-01', '2019-03-02', '2019-03-03', '2019-03-04',\n",
       "               '2019-03-05', '2019-03-06'],\n",
       "              dtype='datetime64[ns]', freq='D')"
      ]
     },
     "execution_count": 2,
     "metadata": {},
     "output_type": "execute_result"
    }
   ],
   "source": [
    "dates = pd.date_range('20190301',periods=6)\n",
    "dates"
   ]
  },
  {
   "cell_type": "code",
   "execution_count": 3,
   "metadata": {},
   "outputs": [
    {
     "data": {
      "text/html": [
       "<div>\n",
       "<style scoped>\n",
       "    .dataframe tbody tr th:only-of-type {\n",
       "        vertical-align: middle;\n",
       "    }\n",
       "\n",
       "    .dataframe tbody tr th {\n",
       "        vertical-align: top;\n",
       "    }\n",
       "\n",
       "    .dataframe thead th {\n",
       "        text-align: right;\n",
       "    }\n",
       "</style>\n",
       "<table border=\"1\" class=\"dataframe\">\n",
       "  <thead>\n",
       "    <tr style=\"text-align: right;\">\n",
       "      <th></th>\n",
       "      <th>A</th>\n",
       "      <th>B</th>\n",
       "      <th>C</th>\n",
       "      <th>D</th>\n",
       "    </tr>\n",
       "  </thead>\n",
       "  <tbody>\n",
       "    <tr>\n",
       "      <th>2019-03-01</th>\n",
       "      <td>-0.818697</td>\n",
       "      <td>-1.941408</td>\n",
       "      <td>-0.945721</td>\n",
       "      <td>1.373445</td>\n",
       "    </tr>\n",
       "    <tr>\n",
       "      <th>2019-03-02</th>\n",
       "      <td>0.326464</td>\n",
       "      <td>-0.118146</td>\n",
       "      <td>-0.904673</td>\n",
       "      <td>1.370155</td>\n",
       "    </tr>\n",
       "    <tr>\n",
       "      <th>2019-03-03</th>\n",
       "      <td>-0.743384</td>\n",
       "      <td>-0.115781</td>\n",
       "      <td>-1.517518</td>\n",
       "      <td>0.530873</td>\n",
       "    </tr>\n",
       "    <tr>\n",
       "      <th>2019-03-04</th>\n",
       "      <td>0.685417</td>\n",
       "      <td>-0.441506</td>\n",
       "      <td>0.316683</td>\n",
       "      <td>-0.150110</td>\n",
       "    </tr>\n",
       "    <tr>\n",
       "      <th>2019-03-05</th>\n",
       "      <td>-0.310061</td>\n",
       "      <td>0.207842</td>\n",
       "      <td>1.808460</td>\n",
       "      <td>0.897516</td>\n",
       "    </tr>\n",
       "    <tr>\n",
       "      <th>2019-03-06</th>\n",
       "      <td>1.232358</td>\n",
       "      <td>2.496388</td>\n",
       "      <td>-0.204046</td>\n",
       "      <td>1.197801</td>\n",
       "    </tr>\n",
       "  </tbody>\n",
       "</table>\n",
       "</div>"
      ],
      "text/plain": [
       "                   A         B         C         D\n",
       "2019-03-01 -0.818697 -1.941408 -0.945721  1.373445\n",
       "2019-03-02  0.326464 -0.118146 -0.904673  1.370155\n",
       "2019-03-03 -0.743384 -0.115781 -1.517518  0.530873\n",
       "2019-03-04  0.685417 -0.441506  0.316683 -0.150110\n",
       "2019-03-05 -0.310061  0.207842  1.808460  0.897516\n",
       "2019-03-06  1.232358  2.496388 -0.204046  1.197801"
      ]
     },
     "execution_count": 3,
     "metadata": {},
     "output_type": "execute_result"
    }
   ],
   "source": [
    "# 랜덤한 함수는 numpy를 이용해서 가져올수 있다.\n",
    "df = pd.DataFrame(np.random.randn(6, 4), index=dates, columns=['A','B','C','D'])\n",
    "     #6행 4열의 랜덤한 값을 만듦, index는 dates를 쓰겠다, 컬럼명도 설정해줌\n",
    "df"
   ]
  },
  {
   "cell_type": "code",
   "execution_count": 4,
   "metadata": {},
   "outputs": [
    {
     "data": {
      "text/plain": [
       "pandas.core.frame.DataFrame"
      ]
     },
     "execution_count": 4,
     "metadata": {},
     "output_type": "execute_result"
    }
   ],
   "source": [
    "type(df)"
   ]
  },
  {
   "cell_type": "code",
   "execution_count": 5,
   "metadata": {},
   "outputs": [
    {
     "data": {
      "text/plain": [
       "Index(['A', 'B', 'C', 'D'], dtype='object')"
      ]
     },
     "execution_count": 5,
     "metadata": {},
     "output_type": "execute_result"
    }
   ],
   "source": [
    "df.columns"
   ]
  },
  {
   "cell_type": "code",
   "execution_count": 6,
   "metadata": {},
   "outputs": [
    {
     "data": {
      "text/plain": [
       "DatetimeIndex(['2019-03-01', '2019-03-02', '2019-03-03', '2019-03-04',\n",
       "               '2019-03-05', '2019-03-06'],\n",
       "              dtype='datetime64[ns]', freq='D')"
      ]
     },
     "execution_count": 6,
     "metadata": {},
     "output_type": "execute_result"
    }
   ],
   "source": [
    "df.index"
   ]
  },
  {
   "cell_type": "code",
   "execution_count": 7,
   "metadata": {},
   "outputs": [
    {
     "data": {
      "text/plain": [
       "array([[-0.81869669, -1.94140787, -0.9457208 ,  1.37344457],\n",
       "       [ 0.32646396, -0.11814627, -0.90467286,  1.37015466],\n",
       "       [-0.74338375, -0.1157809 , -1.51751762,  0.53087277],\n",
       "       [ 0.68541749, -0.44150629,  0.3166835 , -0.15010991],\n",
       "       [-0.31006053,  0.20784247,  1.80846017,  0.89751576],\n",
       "       [ 1.23235785,  2.49638759, -0.20404623,  1.19780104]])"
      ]
     },
     "execution_count": 7,
     "metadata": {},
     "output_type": "execute_result"
    }
   ],
   "source": [
    "df.values"
   ]
  },
  {
   "cell_type": "code",
   "execution_count": 8,
   "metadata": {},
   "outputs": [
    {
     "data": {
      "text/html": [
       "<div>\n",
       "<style scoped>\n",
       "    .dataframe tbody tr th:only-of-type {\n",
       "        vertical-align: middle;\n",
       "    }\n",
       "\n",
       "    .dataframe tbody tr th {\n",
       "        vertical-align: top;\n",
       "    }\n",
       "\n",
       "    .dataframe thead th {\n",
       "        text-align: right;\n",
       "    }\n",
       "</style>\n",
       "<table border=\"1\" class=\"dataframe\">\n",
       "  <thead>\n",
       "    <tr style=\"text-align: right;\">\n",
       "      <th></th>\n",
       "      <th>A</th>\n",
       "      <th>B</th>\n",
       "      <th>C</th>\n",
       "      <th>D</th>\n",
       "    </tr>\n",
       "  </thead>\n",
       "  <tbody>\n",
       "    <tr>\n",
       "      <th>2019-03-01</th>\n",
       "      <td>-0.818697</td>\n",
       "      <td>-1.941408</td>\n",
       "      <td>-0.945721</td>\n",
       "      <td>1.373445</td>\n",
       "    </tr>\n",
       "    <tr>\n",
       "      <th>2019-03-03</th>\n",
       "      <td>-0.743384</td>\n",
       "      <td>-0.115781</td>\n",
       "      <td>-1.517518</td>\n",
       "      <td>0.530873</td>\n",
       "    </tr>\n",
       "    <tr>\n",
       "      <th>2019-03-05</th>\n",
       "      <td>-0.310061</td>\n",
       "      <td>0.207842</td>\n",
       "      <td>1.808460</td>\n",
       "      <td>0.897516</td>\n",
       "    </tr>\n",
       "    <tr>\n",
       "      <th>2019-03-02</th>\n",
       "      <td>0.326464</td>\n",
       "      <td>-0.118146</td>\n",
       "      <td>-0.904673</td>\n",
       "      <td>1.370155</td>\n",
       "    </tr>\n",
       "    <tr>\n",
       "      <th>2019-03-04</th>\n",
       "      <td>0.685417</td>\n",
       "      <td>-0.441506</td>\n",
       "      <td>0.316683</td>\n",
       "      <td>-0.150110</td>\n",
       "    </tr>\n",
       "    <tr>\n",
       "      <th>2019-03-06</th>\n",
       "      <td>1.232358</td>\n",
       "      <td>2.496388</td>\n",
       "      <td>-0.204046</td>\n",
       "      <td>1.197801</td>\n",
       "    </tr>\n",
       "  </tbody>\n",
       "</table>\n",
       "</div>"
      ],
      "text/plain": [
       "                   A         B         C         D\n",
       "2019-03-01 -0.818697 -1.941408 -0.945721  1.373445\n",
       "2019-03-03 -0.743384 -0.115781 -1.517518  0.530873\n",
       "2019-03-05 -0.310061  0.207842  1.808460  0.897516\n",
       "2019-03-02  0.326464 -0.118146 -0.904673  1.370155\n",
       "2019-03-04  0.685417 -0.441506  0.316683 -0.150110\n",
       "2019-03-06  1.232358  2.496388 -0.204046  1.197801"
      ]
     },
     "execution_count": 8,
     "metadata": {},
     "output_type": "execute_result"
    }
   ],
   "source": [
    "df.sort_values(by='A') # by를이용해서 'A'를 기준으로 오름차순 정렬"
   ]
  },
  {
   "cell_type": "code",
   "execution_count": 9,
   "metadata": {},
   "outputs": [
    {
     "data": {
      "text/html": [
       "<div>\n",
       "<style scoped>\n",
       "    .dataframe tbody tr th:only-of-type {\n",
       "        vertical-align: middle;\n",
       "    }\n",
       "\n",
       "    .dataframe tbody tr th {\n",
       "        vertical-align: top;\n",
       "    }\n",
       "\n",
       "    .dataframe thead th {\n",
       "        text-align: right;\n",
       "    }\n",
       "</style>\n",
       "<table border=\"1\" class=\"dataframe\">\n",
       "  <thead>\n",
       "    <tr style=\"text-align: right;\">\n",
       "      <th></th>\n",
       "      <th>A</th>\n",
       "      <th>B</th>\n",
       "      <th>C</th>\n",
       "      <th>D</th>\n",
       "    </tr>\n",
       "  </thead>\n",
       "  <tbody>\n",
       "    <tr>\n",
       "      <th>2019-03-06</th>\n",
       "      <td>1.232358</td>\n",
       "      <td>2.496388</td>\n",
       "      <td>-0.204046</td>\n",
       "      <td>1.197801</td>\n",
       "    </tr>\n",
       "    <tr>\n",
       "      <th>2019-03-04</th>\n",
       "      <td>0.685417</td>\n",
       "      <td>-0.441506</td>\n",
       "      <td>0.316683</td>\n",
       "      <td>-0.150110</td>\n",
       "    </tr>\n",
       "    <tr>\n",
       "      <th>2019-03-02</th>\n",
       "      <td>0.326464</td>\n",
       "      <td>-0.118146</td>\n",
       "      <td>-0.904673</td>\n",
       "      <td>1.370155</td>\n",
       "    </tr>\n",
       "    <tr>\n",
       "      <th>2019-03-05</th>\n",
       "      <td>-0.310061</td>\n",
       "      <td>0.207842</td>\n",
       "      <td>1.808460</td>\n",
       "      <td>0.897516</td>\n",
       "    </tr>\n",
       "    <tr>\n",
       "      <th>2019-03-03</th>\n",
       "      <td>-0.743384</td>\n",
       "      <td>-0.115781</td>\n",
       "      <td>-1.517518</td>\n",
       "      <td>0.530873</td>\n",
       "    </tr>\n",
       "    <tr>\n",
       "      <th>2019-03-01</th>\n",
       "      <td>-0.818697</td>\n",
       "      <td>-1.941408</td>\n",
       "      <td>-0.945721</td>\n",
       "      <td>1.373445</td>\n",
       "    </tr>\n",
       "  </tbody>\n",
       "</table>\n",
       "</div>"
      ],
      "text/plain": [
       "                   A         B         C         D\n",
       "2019-03-06  1.232358  2.496388 -0.204046  1.197801\n",
       "2019-03-04  0.685417 -0.441506  0.316683 -0.150110\n",
       "2019-03-02  0.326464 -0.118146 -0.904673  1.370155\n",
       "2019-03-05 -0.310061  0.207842  1.808460  0.897516\n",
       "2019-03-03 -0.743384 -0.115781 -1.517518  0.530873\n",
       "2019-03-01 -0.818697 -1.941408 -0.945721  1.373445"
      ]
     },
     "execution_count": 9,
     "metadata": {},
     "output_type": "execute_result"
    }
   ],
   "source": [
    "df.sort_values(by='A', ascending=False) # 내림차순 정렬"
   ]
  },
  {
   "cell_type": "code",
   "execution_count": 10,
   "metadata": {},
   "outputs": [
    {
     "data": {
      "text/plain": [
       "2019-03-01   -0.818697\n",
       "2019-03-02    0.326464\n",
       "2019-03-03   -0.743384\n",
       "2019-03-04    0.685417\n",
       "2019-03-05   -0.310061\n",
       "2019-03-06    1.232358\n",
       "Freq: D, Name: A, dtype: float64"
      ]
     },
     "execution_count": 10,
     "metadata": {},
     "output_type": "execute_result"
    }
   ],
   "source": [
    "df['A']"
   ]
  },
  {
   "cell_type": "code",
   "execution_count": 11,
   "metadata": {},
   "outputs": [
    {
     "data": {
      "text/plain": [
       "2019-03-01   -0.818697\n",
       "2019-03-02    0.326464\n",
       "2019-03-03   -0.743384\n",
       "2019-03-04    0.685417\n",
       "2019-03-05   -0.310061\n",
       "2019-03-06    1.232358\n",
       "Freq: D, Name: A, dtype: float64"
      ]
     },
     "execution_count": 11,
     "metadata": {},
     "output_type": "execute_result"
    }
   ],
   "source": [
    "df.A"
   ]
  },
  {
   "cell_type": "code",
   "execution_count": 12,
   "metadata": {},
   "outputs": [
    {
     "data": {
      "text/plain": [
       "pandas.core.series.Series"
      ]
     },
     "execution_count": 12,
     "metadata": {},
     "output_type": "execute_result"
    }
   ],
   "source": [
    "type(df['A']) # Series(세로,열 한줄)클래스의 단위로 만들어야 처리하기가 편하기 때문에 하나로 묶어줌"
   ]
  },
  {
   "cell_type": "code",
   "execution_count": 13,
   "metadata": {},
   "outputs": [
    {
     "data": {
      "text/html": [
       "<div>\n",
       "<style scoped>\n",
       "    .dataframe tbody tr th:only-of-type {\n",
       "        vertical-align: middle;\n",
       "    }\n",
       "\n",
       "    .dataframe tbody tr th {\n",
       "        vertical-align: top;\n",
       "    }\n",
       "\n",
       "    .dataframe thead th {\n",
       "        text-align: right;\n",
       "    }\n",
       "</style>\n",
       "<table border=\"1\" class=\"dataframe\">\n",
       "  <thead>\n",
       "    <tr style=\"text-align: right;\">\n",
       "      <th></th>\n",
       "      <th>A</th>\n",
       "      <th>B</th>\n",
       "      <th>C</th>\n",
       "      <th>D</th>\n",
       "    </tr>\n",
       "  </thead>\n",
       "  <tbody>\n",
       "    <tr>\n",
       "      <th>2019-03-01</th>\n",
       "      <td>-0.818697</td>\n",
       "      <td>-1.941408</td>\n",
       "      <td>-0.945721</td>\n",
       "      <td>1.373445</td>\n",
       "    </tr>\n",
       "    <tr>\n",
       "      <th>2019-03-02</th>\n",
       "      <td>0.326464</td>\n",
       "      <td>-0.118146</td>\n",
       "      <td>-0.904673</td>\n",
       "      <td>1.370155</td>\n",
       "    </tr>\n",
       "    <tr>\n",
       "      <th>2019-03-03</th>\n",
       "      <td>-0.743384</td>\n",
       "      <td>-0.115781</td>\n",
       "      <td>-1.517518</td>\n",
       "      <td>0.530873</td>\n",
       "    </tr>\n",
       "  </tbody>\n",
       "</table>\n",
       "</div>"
      ],
      "text/plain": [
       "                   A         B         C         D\n",
       "2019-03-01 -0.818697 -1.941408 -0.945721  1.373445\n",
       "2019-03-02  0.326464 -0.118146 -0.904673  1.370155\n",
       "2019-03-03 -0.743384 -0.115781 -1.517518  0.530873"
      ]
     },
     "execution_count": 13,
     "metadata": {},
     "output_type": "execute_result"
    }
   ],
   "source": [
    "df[0:3] # ':'의 의미는 부터 라는의미로 0:3은 0부터 2까지를 나타냄, 행추출"
   ]
  },
  {
   "cell_type": "code",
   "execution_count": 14,
   "metadata": {},
   "outputs": [
    {
     "data": {
      "text/html": [
       "<div>\n",
       "<style scoped>\n",
       "    .dataframe tbody tr th:only-of-type {\n",
       "        vertical-align: middle;\n",
       "    }\n",
       "\n",
       "    .dataframe tbody tr th {\n",
       "        vertical-align: top;\n",
       "    }\n",
       "\n",
       "    .dataframe thead th {\n",
       "        text-align: right;\n",
       "    }\n",
       "</style>\n",
       "<table border=\"1\" class=\"dataframe\">\n",
       "  <thead>\n",
       "    <tr style=\"text-align: right;\">\n",
       "      <th></th>\n",
       "      <th>A</th>\n",
       "      <th>B</th>\n",
       "      <th>C</th>\n",
       "      <th>D</th>\n",
       "    </tr>\n",
       "  </thead>\n",
       "  <tbody>\n",
       "    <tr>\n",
       "      <th>2019-03-01</th>\n",
       "      <td>-0.818697</td>\n",
       "      <td>-1.941408</td>\n",
       "      <td>-0.945721</td>\n",
       "      <td>1.373445</td>\n",
       "    </tr>\n",
       "    <tr>\n",
       "      <th>2019-03-02</th>\n",
       "      <td>0.326464</td>\n",
       "      <td>-0.118146</td>\n",
       "      <td>-0.904673</td>\n",
       "      <td>1.370155</td>\n",
       "    </tr>\n",
       "    <tr>\n",
       "      <th>2019-03-03</th>\n",
       "      <td>-0.743384</td>\n",
       "      <td>-0.115781</td>\n",
       "      <td>-1.517518</td>\n",
       "      <td>0.530873</td>\n",
       "    </tr>\n",
       "  </tbody>\n",
       "</table>\n",
       "</div>"
      ],
      "text/plain": [
       "                   A         B         C         D\n",
       "2019-03-01 -0.818697 -1.941408 -0.945721  1.373445\n",
       "2019-03-02  0.326464 -0.118146 -0.904673  1.370155\n",
       "2019-03-03 -0.743384 -0.115781 -1.517518  0.530873"
      ]
     },
     "execution_count": 14,
     "metadata": {},
     "output_type": "execute_result"
    }
   ],
   "source": [
    "df.iloc[0:3]"
   ]
  },
  {
   "cell_type": "code",
   "execution_count": 15,
   "metadata": {},
   "outputs": [
    {
     "data": {
      "text/plain": [
       "A   -0.818697\n",
       "B   -1.941408\n",
       "C   -0.945721\n",
       "D    1.373445\n",
       "Name: 2019-03-01 00:00:00, dtype: float64"
      ]
     },
     "execution_count": 15,
     "metadata": {},
     "output_type": "execute_result"
    }
   ],
   "source": [
    "df.loc['2019-03-01'] # 행추출, 행에 해당하는 모든 열이 추출됨"
   ]
  },
  {
   "cell_type": "code",
   "execution_count": 16,
   "metadata": {},
   "outputs": [
    {
     "data": {
      "text/plain": [
       "A   -0.818697\n",
       "C   -0.945721\n",
       "Name: 2019-03-01 00:00:00, dtype: float64"
      ]
     },
     "execution_count": 16,
     "metadata": {},
     "output_type": "execute_result"
    }
   ],
   "source": [
    "df.loc['2019-03-01', ['A','C']] #loc, iloc[행]"
   ]
  },
  {
   "cell_type": "markdown",
   "metadata": {},
   "source": [
    "df.loc[행]   \n",
    "df.loc[행,열]   \n",
    "df.loc[  ,열]   "
   ]
  },
  {
   "cell_type": "code",
   "execution_count": 17,
   "metadata": {},
   "outputs": [
    {
     "data": {
      "text/plain": [
       "2019-03-01   -0.818697\n",
       "2019-03-02    0.326464\n",
       "2019-03-03   -0.743384\n",
       "2019-03-04    0.685417\n",
       "2019-03-05   -0.310061\n",
       "2019-03-06    1.232358\n",
       "Freq: D, Name: A, dtype: float64"
      ]
     },
     "execution_count": 17,
     "metadata": {},
     "output_type": "execute_result"
    }
   ],
   "source": [
    "df.loc[:,'A']"
   ]
  },
  {
   "cell_type": "code",
   "execution_count": 18,
   "metadata": {},
   "outputs": [
    {
     "data": {
      "text/html": [
       "<div>\n",
       "<style scoped>\n",
       "    .dataframe tbody tr th:only-of-type {\n",
       "        vertical-align: middle;\n",
       "    }\n",
       "\n",
       "    .dataframe tbody tr th {\n",
       "        vertical-align: top;\n",
       "    }\n",
       "\n",
       "    .dataframe thead th {\n",
       "        text-align: right;\n",
       "    }\n",
       "</style>\n",
       "<table border=\"1\" class=\"dataframe\">\n",
       "  <thead>\n",
       "    <tr style=\"text-align: right;\">\n",
       "      <th></th>\n",
       "      <th>A</th>\n",
       "      <th>C</th>\n",
       "    </tr>\n",
       "  </thead>\n",
       "  <tbody>\n",
       "    <tr>\n",
       "      <th>2019-03-01</th>\n",
       "      <td>-0.818697</td>\n",
       "      <td>-0.945721</td>\n",
       "    </tr>\n",
       "    <tr>\n",
       "      <th>2019-03-02</th>\n",
       "      <td>0.326464</td>\n",
       "      <td>-0.904673</td>\n",
       "    </tr>\n",
       "    <tr>\n",
       "      <th>2019-03-03</th>\n",
       "      <td>-0.743384</td>\n",
       "      <td>-1.517518</td>\n",
       "    </tr>\n",
       "    <tr>\n",
       "      <th>2019-03-04</th>\n",
       "      <td>0.685417</td>\n",
       "      <td>0.316683</td>\n",
       "    </tr>\n",
       "    <tr>\n",
       "      <th>2019-03-05</th>\n",
       "      <td>-0.310061</td>\n",
       "      <td>1.808460</td>\n",
       "    </tr>\n",
       "    <tr>\n",
       "      <th>2019-03-06</th>\n",
       "      <td>1.232358</td>\n",
       "      <td>-0.204046</td>\n",
       "    </tr>\n",
       "  </tbody>\n",
       "</table>\n",
       "</div>"
      ],
      "text/plain": [
       "                   A         C\n",
       "2019-03-01 -0.818697 -0.945721\n",
       "2019-03-02  0.326464 -0.904673\n",
       "2019-03-03 -0.743384 -1.517518\n",
       "2019-03-04  0.685417  0.316683\n",
       "2019-03-05 -0.310061  1.808460\n",
       "2019-03-06  1.232358 -0.204046"
      ]
     },
     "execution_count": 18,
     "metadata": {},
     "output_type": "execute_result"
    }
   ],
   "source": [
    "df.loc[:,['A','C']]"
   ]
  },
  {
   "cell_type": "markdown",
   "metadata": {},
   "source": [
    "df.iloc[행]   \n",
    "df.iloc[행,열]   \n",
    "df.iloc[  ,열]   \n",
    "loc와 iloc의 차이는 항목명을 쓰느냐 인덱스를 쓰느냐의 차이\n",
    "iloc는 행 또는 열의 인덱스를 가지고 슬라이싱   \n",
    "loc는 행은 인덱스로 정해진 컬럼(dates), 열은 열이름으로 슬라이싱/."
   ]
  },
  {
   "cell_type": "code",
   "execution_count": 19,
   "metadata": {},
   "outputs": [
    {
     "data": {
      "text/plain": [
       "A   -0.818697\n",
       "B   -1.941408\n",
       "C   -0.945721\n",
       "D    1.373445\n",
       "Name: 2019-03-01 00:00:00, dtype: float64"
      ]
     },
     "execution_count": 19,
     "metadata": {},
     "output_type": "execute_result"
    }
   ],
   "source": [
    "df.iloc[0]"
   ]
  },
  {
   "cell_type": "code",
   "execution_count": 20,
   "metadata": {},
   "outputs": [
    {
     "data": {
      "text/plain": [
       "(6, 4)"
      ]
     },
     "execution_count": 20,
     "metadata": {},
     "output_type": "execute_result"
    }
   ],
   "source": [
    "df.shape"
   ]
  },
  {
   "cell_type": "code",
   "execution_count": 21,
   "metadata": {},
   "outputs": [
    {
     "data": {
      "text/plain": [
       "A    1.232358\n",
       "B    2.496388\n",
       "C   -0.204046\n",
       "D    1.197801\n",
       "Name: 2019-03-06 00:00:00, dtype: float64"
      ]
     },
     "execution_count": 21,
     "metadata": {},
     "output_type": "execute_result"
    }
   ],
   "source": [
    "df.iloc[5] # 행 슬라이싱"
   ]
  },
  {
   "cell_type": "code",
   "execution_count": 22,
   "metadata": {},
   "outputs": [
    {
     "data": {
      "text/html": [
       "<div>\n",
       "<style scoped>\n",
       "    .dataframe tbody tr th:only-of-type {\n",
       "        vertical-align: middle;\n",
       "    }\n",
       "\n",
       "    .dataframe tbody tr th {\n",
       "        vertical-align: top;\n",
       "    }\n",
       "\n",
       "    .dataframe thead th {\n",
       "        text-align: right;\n",
       "    }\n",
       "</style>\n",
       "<table border=\"1\" class=\"dataframe\">\n",
       "  <thead>\n",
       "    <tr style=\"text-align: right;\">\n",
       "      <th></th>\n",
       "      <th>A</th>\n",
       "      <th>B</th>\n",
       "      <th>C</th>\n",
       "      <th>D</th>\n",
       "    </tr>\n",
       "  </thead>\n",
       "  <tbody>\n",
       "    <tr>\n",
       "      <th>2019-03-04</th>\n",
       "      <td>0.685417</td>\n",
       "      <td>-0.441506</td>\n",
       "      <td>0.316683</td>\n",
       "      <td>-0.150110</td>\n",
       "    </tr>\n",
       "    <tr>\n",
       "      <th>2019-03-05</th>\n",
       "      <td>-0.310061</td>\n",
       "      <td>0.207842</td>\n",
       "      <td>1.808460</td>\n",
       "      <td>0.897516</td>\n",
       "    </tr>\n",
       "  </tbody>\n",
       "</table>\n",
       "</div>"
      ],
      "text/plain": [
       "                   A         B         C         D\n",
       "2019-03-04  0.685417 -0.441506  0.316683 -0.150110\n",
       "2019-03-05 -0.310061  0.207842  1.808460  0.897516"
      ]
     },
     "execution_count": 22,
     "metadata": {},
     "output_type": "execute_result"
    }
   ],
   "source": [
    "df.iloc[3:5] # 행 슬라이싱 범위(3~4까지)"
   ]
  },
  {
   "cell_type": "code",
   "execution_count": 23,
   "metadata": {},
   "outputs": [
    {
     "data": {
      "text/html": [
       "<div>\n",
       "<style scoped>\n",
       "    .dataframe tbody tr th:only-of-type {\n",
       "        vertical-align: middle;\n",
       "    }\n",
       "\n",
       "    .dataframe tbody tr th {\n",
       "        vertical-align: top;\n",
       "    }\n",
       "\n",
       "    .dataframe thead th {\n",
       "        text-align: right;\n",
       "    }\n",
       "</style>\n",
       "<table border=\"1\" class=\"dataframe\">\n",
       "  <thead>\n",
       "    <tr style=\"text-align: right;\">\n",
       "      <th></th>\n",
       "      <th>A</th>\n",
       "      <th>B</th>\n",
       "      <th>C</th>\n",
       "      <th>D</th>\n",
       "    </tr>\n",
       "  </thead>\n",
       "  <tbody>\n",
       "    <tr>\n",
       "      <th>2019-03-04</th>\n",
       "      <td>0.685417</td>\n",
       "      <td>-0.441506</td>\n",
       "      <td>0.316683</td>\n",
       "      <td>-0.150110</td>\n",
       "    </tr>\n",
       "    <tr>\n",
       "      <th>2019-03-05</th>\n",
       "      <td>-0.310061</td>\n",
       "      <td>0.207842</td>\n",
       "      <td>1.808460</td>\n",
       "      <td>0.897516</td>\n",
       "    </tr>\n",
       "  </tbody>\n",
       "</table>\n",
       "</div>"
      ],
      "text/plain": [
       "                   A         B         C         D\n",
       "2019-03-04  0.685417 -0.441506  0.316683 -0.150110\n",
       "2019-03-05 -0.310061  0.207842  1.808460  0.897516"
      ]
     },
     "execution_count": 23,
     "metadata": {},
     "output_type": "execute_result"
    }
   ],
   "source": [
    "temp = df.iloc[3:5] #iloc, loc는 비파괴, 원본을 변경시키지 않고, 일부만 추출\n",
    "temp #일부만 추출한 결과를 가지고 여러 처리를 하고자 하는 경우, 변수에 저장해 놓아야한다"
   ]
  },
  {
   "cell_type": "code",
   "execution_count": 24,
   "metadata": {},
   "outputs": [
    {
     "data": {
      "text/html": [
       "<div>\n",
       "<style scoped>\n",
       "    .dataframe tbody tr th:only-of-type {\n",
       "        vertical-align: middle;\n",
       "    }\n",
       "\n",
       "    .dataframe tbody tr th {\n",
       "        vertical-align: top;\n",
       "    }\n",
       "\n",
       "    .dataframe thead th {\n",
       "        text-align: right;\n",
       "    }\n",
       "</style>\n",
       "<table border=\"1\" class=\"dataframe\">\n",
       "  <thead>\n",
       "    <tr style=\"text-align: right;\">\n",
       "      <th></th>\n",
       "      <th>A</th>\n",
       "      <th>B</th>\n",
       "      <th>C</th>\n",
       "      <th>D</th>\n",
       "    </tr>\n",
       "  </thead>\n",
       "  <tbody>\n",
       "    <tr>\n",
       "      <th>2019-03-01</th>\n",
       "      <td>-0.818697</td>\n",
       "      <td>-1.941408</td>\n",
       "      <td>-0.945721</td>\n",
       "      <td>1.373445</td>\n",
       "    </tr>\n",
       "    <tr>\n",
       "      <th>2019-03-02</th>\n",
       "      <td>0.326464</td>\n",
       "      <td>-0.118146</td>\n",
       "      <td>-0.904673</td>\n",
       "      <td>1.370155</td>\n",
       "    </tr>\n",
       "    <tr>\n",
       "      <th>2019-03-03</th>\n",
       "      <td>-0.743384</td>\n",
       "      <td>-0.115781</td>\n",
       "      <td>-1.517518</td>\n",
       "      <td>0.530873</td>\n",
       "    </tr>\n",
       "    <tr>\n",
       "      <th>2019-03-04</th>\n",
       "      <td>0.685417</td>\n",
       "      <td>-0.441506</td>\n",
       "      <td>0.316683</td>\n",
       "      <td>-0.150110</td>\n",
       "    </tr>\n",
       "    <tr>\n",
       "      <th>2019-03-05</th>\n",
       "      <td>-0.310061</td>\n",
       "      <td>0.207842</td>\n",
       "      <td>1.808460</td>\n",
       "      <td>0.897516</td>\n",
       "    </tr>\n",
       "    <tr>\n",
       "      <th>2019-03-06</th>\n",
       "      <td>1.232358</td>\n",
       "      <td>2.496388</td>\n",
       "      <td>-0.204046</td>\n",
       "      <td>1.197801</td>\n",
       "    </tr>\n",
       "  </tbody>\n",
       "</table>\n",
       "</div>"
      ],
      "text/plain": [
       "                   A         B         C         D\n",
       "2019-03-01 -0.818697 -1.941408 -0.945721  1.373445\n",
       "2019-03-02  0.326464 -0.118146 -0.904673  1.370155\n",
       "2019-03-03 -0.743384 -0.115781 -1.517518  0.530873\n",
       "2019-03-04  0.685417 -0.441506  0.316683 -0.150110\n",
       "2019-03-05 -0.310061  0.207842  1.808460  0.897516\n",
       "2019-03-06  1.232358  2.496388 -0.204046  1.197801"
      ]
     },
     "execution_count": 24,
     "metadata": {},
     "output_type": "execute_result"
    }
   ],
   "source": [
    "df.iloc[:]"
   ]
  },
  {
   "cell_type": "code",
   "execution_count": 25,
   "metadata": {},
   "outputs": [
    {
     "data": {
      "text/html": [
       "<div>\n",
       "<style scoped>\n",
       "    .dataframe tbody tr th:only-of-type {\n",
       "        vertical-align: middle;\n",
       "    }\n",
       "\n",
       "    .dataframe tbody tr th {\n",
       "        vertical-align: top;\n",
       "    }\n",
       "\n",
       "    .dataframe thead th {\n",
       "        text-align: right;\n",
       "    }\n",
       "</style>\n",
       "<table border=\"1\" class=\"dataframe\">\n",
       "  <thead>\n",
       "    <tr style=\"text-align: right;\">\n",
       "      <th></th>\n",
       "      <th>A</th>\n",
       "      <th>B</th>\n",
       "      <th>C</th>\n",
       "      <th>D</th>\n",
       "    </tr>\n",
       "  </thead>\n",
       "  <tbody>\n",
       "    <tr>\n",
       "      <th>2019-03-05</th>\n",
       "      <td>-0.310061</td>\n",
       "      <td>0.207842</td>\n",
       "      <td>1.808460</td>\n",
       "      <td>0.897516</td>\n",
       "    </tr>\n",
       "    <tr>\n",
       "      <th>2019-03-06</th>\n",
       "      <td>1.232358</td>\n",
       "      <td>2.496388</td>\n",
       "      <td>-0.204046</td>\n",
       "      <td>1.197801</td>\n",
       "    </tr>\n",
       "  </tbody>\n",
       "</table>\n",
       "</div>"
      ],
      "text/plain": [
       "                   A         B         C         D\n",
       "2019-03-05 -0.310061  0.207842  1.808460  0.897516\n",
       "2019-03-06  1.232358  2.496388 -0.204046  1.197801"
      ]
     },
     "execution_count": 25,
     "metadata": {},
     "output_type": "execute_result"
    }
   ],
   "source": [
    "df.iloc[4:] #4부터 끝까지"
   ]
  },
  {
   "cell_type": "code",
   "execution_count": 26,
   "metadata": {},
   "outputs": [
    {
     "data": {
      "text/html": [
       "<div>\n",
       "<style scoped>\n",
       "    .dataframe tbody tr th:only-of-type {\n",
       "        vertical-align: middle;\n",
       "    }\n",
       "\n",
       "    .dataframe tbody tr th {\n",
       "        vertical-align: top;\n",
       "    }\n",
       "\n",
       "    .dataframe thead th {\n",
       "        text-align: right;\n",
       "    }\n",
       "</style>\n",
       "<table border=\"1\" class=\"dataframe\">\n",
       "  <thead>\n",
       "    <tr style=\"text-align: right;\">\n",
       "      <th></th>\n",
       "      <th>A</th>\n",
       "      <th>B</th>\n",
       "      <th>C</th>\n",
       "      <th>D</th>\n",
       "    </tr>\n",
       "  </thead>\n",
       "  <tbody>\n",
       "    <tr>\n",
       "      <th>2019-03-01</th>\n",
       "      <td>-0.818697</td>\n",
       "      <td>-1.941408</td>\n",
       "      <td>-0.945721</td>\n",
       "      <td>1.373445</td>\n",
       "    </tr>\n",
       "    <tr>\n",
       "      <th>2019-03-02</th>\n",
       "      <td>0.326464</td>\n",
       "      <td>-0.118146</td>\n",
       "      <td>-0.904673</td>\n",
       "      <td>1.370155</td>\n",
       "    </tr>\n",
       "    <tr>\n",
       "      <th>2019-03-03</th>\n",
       "      <td>-0.743384</td>\n",
       "      <td>-0.115781</td>\n",
       "      <td>-1.517518</td>\n",
       "      <td>0.530873</td>\n",
       "    </tr>\n",
       "    <tr>\n",
       "      <th>2019-03-04</th>\n",
       "      <td>0.685417</td>\n",
       "      <td>-0.441506</td>\n",
       "      <td>0.316683</td>\n",
       "      <td>-0.150110</td>\n",
       "    </tr>\n",
       "  </tbody>\n",
       "</table>\n",
       "</div>"
      ],
      "text/plain": [
       "                   A         B         C         D\n",
       "2019-03-01 -0.818697 -1.941408 -0.945721  1.373445\n",
       "2019-03-02  0.326464 -0.118146 -0.904673  1.370155\n",
       "2019-03-03 -0.743384 -0.115781 -1.517518  0.530873\n",
       "2019-03-04  0.685417 -0.441506  0.316683 -0.150110"
      ]
     },
     "execution_count": 26,
     "metadata": {},
     "output_type": "execute_result"
    }
   ],
   "source": [
    "df.iloc[:4] #0부터 3까지(3부터 앞으로 끝까지)"
   ]
  },
  {
   "cell_type": "code",
   "execution_count": null,
   "metadata": {},
   "outputs": [],
   "source": []
  }
 ],
 "metadata": {
  "kernelspec": {
   "display_name": "Python 3",
   "language": "python",
   "name": "python3"
  },
  "language_info": {
   "codemirror_mode": {
    "name": "ipython",
    "version": 3
   },
   "file_extension": ".py",
   "mimetype": "text/x-python",
   "name": "python",
   "nbconvert_exporter": "python",
   "pygments_lexer": "ipython3",
   "version": "3.7.0"
  }
 },
 "nbformat": 4,
 "nbformat_minor": 2
}
